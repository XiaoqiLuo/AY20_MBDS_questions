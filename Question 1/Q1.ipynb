{
 "metadata": {
  "language_info": {
   "codemirror_mode": {
    "name": "ipython",
    "version": 3
   },
   "file_extension": ".py",
   "mimetype": "text/x-python",
   "name": "python",
   "nbconvert_exporter": "python",
   "pygments_lexer": "ipython3",
   "version": "3.7.9-final"
  },
  "orig_nbformat": 2,
  "kernelspec": {
   "name": "python3",
   "display_name": "Python 3.7.9 64-bit ('AY': conda)",
   "metadata": {
    "interpreter": {
     "hash": "f3903b0f3092940892159e47ebb5cb7efd253e21a20b4be51730ae854e97a131"
    }
   }
  }
 },
 "nbformat": 4,
 "nbformat_minor": 2,
 "cells": [
  {
   "cell_type": "code",
   "execution_count": 1,
   "metadata": {},
   "outputs": [],
   "source": [
    "import numpy as np"
   ]
  },
  {
   "cell_type": "code",
   "execution_count": 2,
   "metadata": {},
   "outputs": [],
   "source": [
    "def get_path(m, n, mod, div):\n",
    "    if div ==1:\n",
    "        s = np.repeat(\"R\", m-mod-1)\n",
    "        s = np.append(s, 'D')\n",
    "        s = np.append(s, np.repeat(\"R\", mod))\n",
    "        s = np.append(s, np.repeat(\"D\", (n-mod-2)))\n",
    "    else:\n",
    "        s = np.repeat(\"D\", (div-1))\n",
    "        s = np.append(s, np.repeat(\"R\", (n-1-mod)))\n",
    "        s = np.append(s, 'D')\n",
    "        s = np.append(s, np.repeat(\"R\", (mod)))\n",
    "        s = np.append(s, np.repeat(\"D\", (m-div-1)))\n",
    "    return ''.join(s)\n"
   ]
  },
  {
   "cell_type": "code",
   "execution_count": 3,
   "metadata": {},
   "outputs": [],
   "source": [
    "def right_sum(m, n, S):\n",
    "    D = S - (1 + m)*m/2\n",
    "    div = D // (n-1)\n",
    "    mod = D % (n-1)\n",
    "    return get_path(m, n, mod, div)"
   ]
  },
  {
   "cell_type": "code",
   "execution_count": 4,
   "metadata": {},
   "outputs": [],
   "source": [
    "with open('/home/xiaoqi/AY20_MBDS_questions/Question 1/output_question_1','w') as f:\n",
    "    print(\"65 {}\".format(right_sum(9, 9, 65)), file=f)\n",
    "    print(\"72 {}\".format(right_sum(9, 9, 72)), file=f)\n",
    "    print(\"90 {}\".format(right_sum(9, 9, 90)), file=f)\n",
    "    print(\"110 {}\".format(right_sum(9, 9, 110)), file=f)\n",
    "    print(\"87127231192 {}\".format(right_sum(90000, 1000000, 87127231192)), file=f)\n",
    "    print(\"5994891682 {}\".format(right_sum(90000, 1000000, 5994891682)), file=f)"
   ]
  }
 ]
}