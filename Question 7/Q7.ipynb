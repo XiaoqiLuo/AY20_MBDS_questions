{
 "metadata": {
  "language_info": {
   "codemirror_mode": {
    "name": "ipython",
    "version": 3
   },
   "file_extension": ".py",
   "mimetype": "text/x-python",
   "name": "python",
   "nbconvert_exporter": "python",
   "pygments_lexer": "ipython3",
   "version": "3.7.9-final"
  },
  "orig_nbformat": 2,
  "kernelspec": {
   "name": "python3",
   "display_name": "Python 3",
   "language": "python"
  }
 },
 "nbformat": 4,
 "nbformat_minor": 2,
 "cells": [
  {
   "cell_type": "code",
   "execution_count": 1,
   "metadata": {},
   "outputs": [],
   "source": [
    "import numpy as np"
   ]
  },
  {
   "cell_type": "code",
   "execution_count": 2,
   "metadata": {},
   "outputs": [],
   "source": [
    "# 7.1 convert coordinates to index\n",
    "def coordinates_to_indexs(L1, L2, x):\n",
    "    x1 = x[0]\n",
    "    x2 = x[1]\n",
    "    if x1 > (L1 - 1) or x2 > (L2 - 1):\n",
    "        return(\"coordinates out of bound\")\n",
    "    return int(x1 + L1*x2)\n",
    "input_coordinate = np.loadtxt('/home/xiaoqi/AY20_MBDS_questions/Question 7/Question 7.1/input_coordinates_7_1.txt',comments=\"x\")\n",
    "with open('/home/xiaoqi/AY20_MBDS_questions/Question 7/output_index_7_1', 'w') as f:\n",
    "    print(\"index\",file=f)\n",
    "    for i in input_coordinate:\n",
    "        print('{}'.format(coordinates_to_indexs(50, 57, i)),file=f)"
   ]
  },
  {
   "cell_type": "code",
   "execution_count": 3,
   "metadata": {},
   "outputs": [],
   "source": [
    "# 7.1 convert index to coordinates\n",
    "def indexs_to_coordinates(L1, L2, index):\n",
    "    x1 = index % L1\n",
    "    x2 = index // L1\n",
    "    return x1,x2\n",
    "input_index = np.loadtxt('/home/xiaoqi/AY20_MBDS_questions/Question 7/Question 7.1/input_index_7_1.txt',comments=\"index\")\n",
    "with open('/home/xiaoqi/AY20_MBDS_questions/Question 7/output_coordinates_7_1', 'w') as f:\n",
    "    print(\"x1\\tx2\",file=f)\n",
    "    for i in input_index:\n",
    "        x1, x2 = indexs_to_coordinates(50, 57, i)\n",
    "        print('{}\\t{}'.format(x1, x2), file=f)"
   ]
  },
  {
   "cell_type": "code",
   "execution_count": 4,
   "metadata": {},
   "outputs": [],
   "source": [
    "# 7.2 convert 6-dimension coordinates to index\n",
    "def coordinates_to_indexs(L, x):\n",
    "    index = x[0]\n",
    "    for i in range(1, (len(x))):\n",
    "        multiple = 1\n",
    "        for j in range(0, i):\n",
    "            multiple = multiple * L[j]\n",
    "        index = index + x[i] * multiple\n",
    "    return int(index)\n",
    "coordinates = np.loadtxt('/home/xiaoqi/AY20_MBDS_questions/Question 7/Question 7.2/input_coordinates_7_2.txt',comments=\"x\")\n",
    "L = (4,8,5,9,6,7)\n",
    "with open('/home/xiaoqi/AY20_MBDS_questions/Question 7/output_inedx_7_2', 'w') as f:\n",
    "    print('index', file=f)\n",
    "    for i in coordinates:\n",
    "        print('{}'.format(coordinates_to_indexs(L, i)), file=f)"
   ]
  },
  {
   "cell_type": "code",
   "execution_count": 5,
   "metadata": {},
   "outputs": [],
   "source": [
    "# 7.2 convert 6-dimension index to coordinates \n",
    "def seg(index, L, i):\n",
    "    if i == 0:\n",
    "        return index\n",
    "    else:\n",
    "        return (seg(index, L, i-1) - (seg(index, L, i-1) % L[i-1])) / L[i-1]"
   ]
  },
  {
   "cell_type": "code",
   "execution_count": 6,
   "metadata": {},
   "outputs": [],
   "source": [
    "def indexs_to_coordinates(L, index):\n",
    "    x = [0 for x in range(0, len(L))] \n",
    "    for i in range(0, len(L)):\n",
    "        x[i] = int(seg(index, L, i) % L[i])\n",
    "    return \"\\t\".join(str(i) for i in x)\n",
    "\n"
   ]
  },
  {
   "cell_type": "code",
   "execution_count": 7,
   "metadata": {
    "tags": []
   },
   "outputs": [],
   "source": [
    "input_index = np.loadtxt('/home/xiaoqi/AY20_MBDS_questions/Question 7/Question 7.2/input_index_7_2.txt',comments=\"i\")\n",
    "L = (4,8,5,9,6,7)\n",
    "with open('/home/xiaoqi/AY20_MBDS_questions/Question 7/output_coordinates_7_2', 'w') as f:\n",
    "    print('x1\\tx2\\tx3\\tx4\\tx5\\tx6\\t', file=f)\n",
    "    for i in input_index:\n",
    "        print('{}'.format(indexs_to_coordinates(L, int(i))), file=f)\n",
    "       "
   ]
  }
 ]
}