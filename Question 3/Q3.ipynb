{
 "metadata": {
  "language_info": {
   "codemirror_mode": {
    "name": "ipython",
    "version": 3
   },
   "file_extension": ".py",
   "mimetype": "text/x-python",
   "name": "python",
   "nbconvert_exporter": "python",
   "pygments_lexer": "ipython3",
   "version": "3.7.9-final"
  },
  "orig_nbformat": 2,
  "kernelspec": {
   "name": "python3",
   "display_name": "Python 3.7.9 64-bit ('AY': conda)",
   "metadata": {
    "interpreter": {
     "hash": "f3903b0f3092940892159e47ebb5cb7efd253e21a20b4be51730ae854e97a131"
    }
   }
  }
 },
 "nbformat": 4,
 "nbformat_minor": 2,
 "cells": [
  {
   "cell_type": "code",
   "execution_count": 2,
   "metadata": {},
   "outputs": [
    {
     "output_type": "stream",
     "name": "stderr",
     "text": [
      "Using TensorFlow backend.\n"
     ]
    }
   ],
   "source": [
    "import pandas as pd\n",
    "import numpy as np\n",
    "from keras.models import Sequential\n",
    "from keras.layers import Dense\n",
    "from keras.optimizers import Adam"
   ]
  },
  {
   "cell_type": "code",
   "execution_count": 3,
   "metadata": {},
   "outputs": [],
   "source": [
    "model = Sequential()"
   ]
  },
  {
   "cell_type": "code",
   "execution_count": 4,
   "metadata": {},
   "outputs": [],
   "source": [
    "# define hidden layer(4*4)\n",
    "model.add(Dense(units=4, input_dim=3, activation='relu'))\n",
    "model.add(Dense(units=4, activation='relu'))\n",
    "model.add(Dense(units=4, activation='relu'))\n",
    "model.add(Dense(units=1))\n"
   ]
  },
  {
   "cell_type": "code",
   "execution_count": 5,
   "metadata": {},
   "outputs": [],
   "source": [
    "# model training\n",
    "model.compile(loss='mse', optimizer='adam')"
   ]
  },
  {
   "cell_type": "code",
   "execution_count": 6,
   "metadata": {},
   "outputs": [],
   "source": [
    "traininput = np.loadtxt('/home/xiaoqi/AY20_MBDS_questions/Question 3/train_data.txt', comments=\"x\")\n",
    "trainoutput = np.loadtxt('/home/xiaoqi/AY20_MBDS_questions/Question 3/train_truth.txt', comments=\"y\")"
   ]
  },
  {
   "cell_type": "code",
   "execution_count": 7,
   "metadata": {},
   "outputs": [
    {
     "output_type": "stream",
     "name": "stdout",
     "text": [
      "Train on 8000 samples, validate on 2000 samples\n",
      "Epoch 1/100\n",
      " - 5s - loss: 0.0875 - val_loss: 0.0223\n",
      "Epoch 2/100\n",
      " - 3s - loss: 0.0201 - val_loss: 0.0162\n",
      "Epoch 3/100\n",
      " - 3s - loss: 0.0140 - val_loss: 0.0107\n",
      "Epoch 4/100\n",
      " - 3s - loss: 0.0089 - val_loss: 0.0062\n",
      "Epoch 5/100\n",
      " - 3s - loss: 0.0029 - val_loss: 0.0012\n",
      "Epoch 6/100\n",
      " - 3s - loss: 9.4316e-04 - val_loss: 7.4934e-04\n",
      "Epoch 7/100\n",
      " - 3s - loss: 6.8593e-04 - val_loss: 5.9798e-04\n",
      "Epoch 8/100\n",
      " - 3s - loss: 5.8004e-04 - val_loss: 5.3618e-04\n",
      "Epoch 9/100\n",
      " - 3s - loss: 5.2950e-04 - val_loss: 4.9104e-04\n",
      "Epoch 10/100\n",
      " - 3s - loss: 5.0175e-04 - val_loss: 4.7362e-04\n",
      "Epoch 11/100\n",
      " - 3s - loss: 4.8799e-04 - val_loss: 4.6422e-04\n",
      "Epoch 12/100\n",
      " - 2s - loss: 4.7811e-04 - val_loss: 4.6149e-04\n",
      "Epoch 13/100\n",
      " - 3s - loss: 4.7399e-04 - val_loss: 4.5652e-04\n",
      "Epoch 14/100\n",
      " - 3s - loss: 4.6890e-04 - val_loss: 4.5151e-04\n",
      "Epoch 15/100\n",
      " - 3s - loss: 4.6669e-04 - val_loss: 4.6500e-04\n",
      "Epoch 16/100\n",
      " - 3s - loss: 4.6682e-04 - val_loss: 4.7196e-04\n",
      "Epoch 17/100\n",
      " - 4s - loss: 4.6039e-04 - val_loss: 4.4355e-04\n",
      "Epoch 18/100\n",
      " - 4s - loss: 4.5771e-04 - val_loss: 4.4478e-04\n",
      "Epoch 19/100\n",
      " - 4s - loss: 4.5295e-04 - val_loss: 4.4511e-04\n",
      "Epoch 20/100\n",
      " - 4s - loss: 4.4910e-04 - val_loss: 4.3470e-04\n",
      "Epoch 21/100\n",
      " - 4s - loss: 4.4542e-04 - val_loss: 4.3022e-04\n",
      "Epoch 22/100\n",
      " - 4s - loss: 4.4014e-04 - val_loss: 4.2817e-04\n",
      "Epoch 23/100\n",
      " - 3s - loss: 4.3851e-04 - val_loss: 4.2969e-04\n",
      "Epoch 24/100\n",
      " - 3s - loss: 4.3875e-04 - val_loss: 4.2159e-04\n",
      "Epoch 25/100\n",
      " - 3s - loss: 4.2858e-04 - val_loss: 4.1451e-04\n",
      "Epoch 26/100\n",
      " - 3s - loss: 4.2273e-04 - val_loss: 4.1336e-04\n",
      "Epoch 27/100\n",
      " - 3s - loss: 4.1762e-04 - val_loss: 4.1016e-04\n",
      "Epoch 28/100\n",
      " - 4s - loss: 4.1144e-04 - val_loss: 3.9980e-04\n",
      "Epoch 29/100\n",
      " - 4s - loss: 4.0414e-04 - val_loss: 3.9746e-04\n",
      "Epoch 30/100\n",
      " - 4s - loss: 3.9548e-04 - val_loss: 3.8395e-04\n",
      "Epoch 31/100\n",
      " - 4s - loss: 3.8775e-04 - val_loss: 3.7687e-04\n",
      "Epoch 32/100\n",
      " - 3s - loss: 3.7838e-04 - val_loss: 3.6850e-04\n",
      "Epoch 33/100\n",
      " - 4s - loss: 3.6869e-04 - val_loss: 3.6391e-04\n",
      "Epoch 34/100\n",
      " - 4s - loss: 3.5772e-04 - val_loss: 3.4937e-04\n",
      "Epoch 35/100\n",
      " - 3s - loss: 3.4854e-04 - val_loss: 3.3654e-04\n",
      "Epoch 36/100\n",
      " - 3s - loss: 3.3291e-04 - val_loss: 3.2360e-04\n",
      "Epoch 37/100\n",
      " - 3s - loss: 3.2052e-04 - val_loss: 3.2035e-04\n",
      "Epoch 38/100\n",
      " - 4s - loss: 3.0914e-04 - val_loss: 3.0007e-04\n",
      "Epoch 39/100\n",
      " - 3s - loss: 2.9463e-04 - val_loss: 2.8761e-04\n",
      "Epoch 40/100\n",
      " - 3s - loss: 2.8139e-04 - val_loss: 2.7634e-04\n",
      "Epoch 41/100\n",
      " - 3s - loss: 2.6775e-04 - val_loss: 2.5976e-04\n",
      "Epoch 42/100\n",
      " - 4s - loss: 2.5363e-04 - val_loss: 2.4956e-04\n",
      "Epoch 43/100\n",
      " - 4s - loss: 2.3970e-04 - val_loss: 2.3448e-04\n",
      "Epoch 44/100\n",
      " - 4s - loss: 2.3079e-04 - val_loss: 2.3951e-04\n",
      "Epoch 45/100\n",
      " - 4s - loss: 2.2377e-04 - val_loss: 2.2593e-04\n",
      "Epoch 46/100\n",
      " - 4s - loss: 2.1451e-04 - val_loss: 2.1083e-04\n",
      "Epoch 47/100\n",
      " - 4s - loss: 2.0907e-04 - val_loss: 2.0678e-04\n",
      "Epoch 48/100\n",
      " - 3s - loss: 2.0485e-04 - val_loss: 2.0751e-04\n",
      "Epoch 49/100\n",
      " - 3s - loss: 1.9968e-04 - val_loss: 1.9802e-04\n",
      "Epoch 50/100\n",
      " - 3s - loss: 1.9422e-04 - val_loss: 1.9268e-04\n",
      "Epoch 51/100\n",
      " - 4s - loss: 1.9089e-04 - val_loss: 1.8988e-04\n",
      "Epoch 52/100\n",
      " - 3s - loss: 1.8835e-04 - val_loss: 1.8507e-04\n",
      "Epoch 53/100\n",
      " - 3s - loss: 1.8513e-04 - val_loss: 1.8116e-04\n",
      "Epoch 54/100\n",
      " - 4s - loss: 1.8191e-04 - val_loss: 1.8223e-04\n",
      "Epoch 55/100\n",
      " - 4s - loss: 1.7877e-04 - val_loss: 1.7659e-04\n",
      "Epoch 56/100\n",
      " - 3s - loss: 1.7594e-04 - val_loss: 1.7590e-04\n",
      "Epoch 57/100\n",
      " - 3s - loss: 1.7444e-04 - val_loss: 1.7074e-04\n",
      "Epoch 58/100\n",
      " - 3s - loss: 1.7200e-04 - val_loss: 1.6878e-04\n",
      "Epoch 59/100\n",
      " - 3s - loss: 1.7433e-04 - val_loss: 1.6627e-04\n",
      "Epoch 60/100\n",
      " - 4s - loss: 1.7129e-04 - val_loss: 1.6657e-04\n",
      "Epoch 61/100\n",
      " - 4s - loss: 1.6793e-04 - val_loss: 1.6313e-04\n",
      "Epoch 62/100\n",
      " - 3s - loss: 1.6635e-04 - val_loss: 1.6113e-04\n",
      "Epoch 63/100\n",
      " - 3s - loss: 1.6445e-04 - val_loss: 1.6433e-04\n",
      "Epoch 64/100\n",
      " - 3s - loss: 1.6567e-04 - val_loss: 1.5902e-04\n",
      "Epoch 65/100\n",
      " - 3s - loss: 1.6145e-04 - val_loss: 1.6174e-04\n",
      "Epoch 66/100\n",
      " - 3s - loss: 1.6072e-04 - val_loss: 1.5671e-04\n",
      "Epoch 67/100\n",
      " - 3s - loss: 1.6025e-04 - val_loss: 1.5191e-04\n",
      "Epoch 68/100\n",
      " - 4s - loss: 1.5685e-04 - val_loss: 1.5087e-04\n",
      "Epoch 69/100\n",
      " - 4s - loss: 1.5458e-04 - val_loss: 1.5066e-04\n",
      "Epoch 70/100\n",
      " - 4s - loss: 1.5438e-04 - val_loss: 1.4850e-04\n",
      "Epoch 71/100\n",
      " - 3s - loss: 1.5123e-04 - val_loss: 1.4660e-04\n",
      "Epoch 72/100\n",
      " - 3s - loss: 1.4985e-04 - val_loss: 1.4460e-04\n",
      "Epoch 73/100\n",
      " - 4s - loss: 1.4948e-04 - val_loss: 1.4996e-04\n",
      "Epoch 74/100\n",
      " - 3s - loss: 1.5217e-04 - val_loss: 1.4078e-04\n",
      "Epoch 75/100\n",
      " - 3s - loss: 1.4454e-04 - val_loss: 1.4047e-04\n",
      "Epoch 76/100\n",
      " - 3s - loss: 1.4262e-04 - val_loss: 1.3704e-04\n",
      "Epoch 77/100\n",
      " - 3s - loss: 1.4290e-04 - val_loss: 1.3928e-04\n",
      "Epoch 78/100\n",
      " - 4s - loss: 1.4130e-04 - val_loss: 1.3654e-04\n",
      "Epoch 79/100\n",
      " - 3s - loss: 1.4013e-04 - val_loss: 1.3869e-04\n",
      "Epoch 80/100\n",
      " - 3s - loss: 1.4124e-04 - val_loss: 1.3457e-04\n",
      "Epoch 81/100\n",
      " - 4s - loss: 1.3664e-04 - val_loss: 1.3283e-04\n",
      "Epoch 82/100\n",
      " - 4s - loss: 1.3723e-04 - val_loss: 1.2927e-04\n",
      "Epoch 83/100\n",
      " - 4s - loss: 1.3657e-04 - val_loss: 1.3167e-04\n",
      "Epoch 84/100\n",
      " - 4s - loss: 1.3587e-04 - val_loss: 1.3888e-04\n",
      "Epoch 85/100\n",
      " - 4s - loss: 1.3426e-04 - val_loss: 1.2706e-04\n",
      "Epoch 86/100\n",
      " - 3s - loss: 1.3105e-04 - val_loss: 1.2876e-04\n",
      "Epoch 87/100\n",
      " - 3s - loss: 1.3229e-04 - val_loss: 1.2815e-04\n",
      "Epoch 88/100\n",
      " - 4s - loss: 1.3027e-04 - val_loss: 1.2382e-04\n",
      "Epoch 89/100\n",
      " - 3s - loss: 1.3041e-04 - val_loss: 1.2397e-04\n",
      "Epoch 90/100\n",
      " - 4s - loss: 1.3017e-04 - val_loss: 1.2533e-04\n",
      "Epoch 91/100\n",
      " - 3s - loss: 1.3063e-04 - val_loss: 1.2443e-04\n",
      "Epoch 92/100\n",
      " - 4s - loss: 1.3160e-04 - val_loss: 1.2843e-04\n",
      "Epoch 93/100\n",
      " - 5s - loss: 1.2975e-04 - val_loss: 1.2231e-04\n",
      "Epoch 94/100\n",
      " - 4s - loss: 1.2736e-04 - val_loss: 1.2026e-04\n",
      "Epoch 95/100\n",
      " - 4s - loss: 1.2618e-04 - val_loss: 1.2220e-04\n",
      "Epoch 96/100\n",
      " - 4s - loss: 1.2710e-04 - val_loss: 1.2187e-04\n",
      "Epoch 97/100\n",
      " - 3s - loss: 1.2681e-04 - val_loss: 1.1971e-04\n",
      "Epoch 98/100\n",
      " - 3s - loss: 1.2719e-04 - val_loss: 1.2494e-04\n",
      "Epoch 99/100\n",
      " - 3s - loss: 1.2589e-04 - val_loss: 1.2230e-04\n",
      "Epoch 100/100\n",
      " - 3s - loss: 1.2548e-04 - val_loss: 1.2335e-04\n"
     ]
    }
   ],
   "source": [
    "train = model.fit(x=traininput, y=trainoutput, validation_split=0.2, epochs=100, batch_size=100,verbose=2)"
   ]
  },
  {
   "cell_type": "code",
   "execution_count": 8,
   "metadata": {},
   "outputs": [],
   "source": [
    "testinput = np.loadtxt('/home/xiaoqi/AY20_MBDS_questions/Question 3/test_data.txt',comments='x')\n",
    "classes = model.predict(testinput, batch_size=100)"
   ]
  },
  {
   "cell_type": "code",
   "execution_count": 9,
   "metadata": {},
   "outputs": [
    {
     "output_type": "execute_result",
     "data": {
      "text/plain": [
       "array([[0.57033926],\n",
       "       [0.52870655],\n",
       "       [0.75658554],\n",
       "       ...,\n",
       "       [0.09338143],\n",
       "       [0.4900786 ],\n",
       "       [0.42543527]], dtype=float32)"
      ]
     },
     "metadata": {},
     "execution_count": 9
    }
   ],
   "source": [
    "np_data = np.array(classes)\n",
    "np_data"
   ]
  },
  {
   "cell_type": "code",
   "execution_count": 10,
   "metadata": {},
   "outputs": [],
   "source": [
    "pd_data = pd.DataFrame(np_data)\n",
    "pd_data.to_csv('/home/xiaoqi/AY20_MBDS_questions/Question 3/test_predicted.txt', header=False, index=False)"
   ]
  },
  {
   "cell_type": "code",
   "execution_count": 11,
   "metadata": {},
   "outputs": [
    {
     "output_type": "execute_result",
     "data": {
      "text/plain": [
       "             0\n",
       "0     0.570339\n",
       "1     0.528707\n",
       "2     0.756586\n",
       "3     0.569542\n",
       "4     0.140814\n",
       "...        ...\n",
       "2495  0.214514\n",
       "2496  0.504463\n",
       "2497  0.093381\n",
       "2498  0.490079\n",
       "2499  0.425435\n",
       "\n",
       "[2500 rows x 1 columns]"
      ],
      "text/html": "<div>\n<style scoped>\n    .dataframe tbody tr th:only-of-type {\n        vertical-align: middle;\n    }\n\n    .dataframe tbody tr th {\n        vertical-align: top;\n    }\n\n    .dataframe thead th {\n        text-align: right;\n    }\n</style>\n<table border=\"1\" class=\"dataframe\">\n  <thead>\n    <tr style=\"text-align: right;\">\n      <th></th>\n      <th>0</th>\n    </tr>\n  </thead>\n  <tbody>\n    <tr>\n      <th>0</th>\n      <td>0.570339</td>\n    </tr>\n    <tr>\n      <th>1</th>\n      <td>0.528707</td>\n    </tr>\n    <tr>\n      <th>2</th>\n      <td>0.756586</td>\n    </tr>\n    <tr>\n      <th>3</th>\n      <td>0.569542</td>\n    </tr>\n    <tr>\n      <th>4</th>\n      <td>0.140814</td>\n    </tr>\n    <tr>\n      <th>...</th>\n      <td>...</td>\n    </tr>\n    <tr>\n      <th>2495</th>\n      <td>0.214514</td>\n    </tr>\n    <tr>\n      <th>2496</th>\n      <td>0.504463</td>\n    </tr>\n    <tr>\n      <th>2497</th>\n      <td>0.093381</td>\n    </tr>\n    <tr>\n      <th>2498</th>\n      <td>0.490079</td>\n    </tr>\n    <tr>\n      <th>2499</th>\n      <td>0.425435</td>\n    </tr>\n  </tbody>\n</table>\n<p>2500 rows × 1 columns</p>\n</div>"
     },
     "metadata": {},
     "execution_count": 11
    }
   ],
   "source": [
    "pd_data"
   ]
  }
 ]
}