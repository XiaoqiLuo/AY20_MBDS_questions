{
 "metadata": {
  "language_info": {
   "codemirror_mode": {
    "name": "ipython",
    "version": 3
   },
   "file_extension": ".py",
   "mimetype": "text/x-python",
   "name": "python",
   "nbconvert_exporter": "python",
   "pygments_lexer": "ipython3",
   "version": "3.7.9-final"
  },
  "orig_nbformat": 2,
  "kernelspec": {
   "name": "python3",
   "display_name": "Python 3",
   "language": "python"
  }
 },
 "nbformat": 4,
 "nbformat_minor": 2,
 "cells": [
  {
   "cell_type": "code",
   "execution_count": 1,
   "metadata": {},
   "outputs": [],
   "source": [
    "import numpy as np"
   ]
  },
  {
   "cell_type": "code",
   "execution_count": 2,
   "metadata": {},
   "outputs": [],
   "source": [
    "def is_points_within_polygon(point, polygon):\n",
    "    filter_x = [p if p[0] <= point[0] else None for p in polygon + [polygon[0]] ]\n",
    "    pairs = [(p1, p2) for p1, p2 in zip(filter_x[:-1], filter_x[1:])]\n",
    "    filter_none = [(p1[1], p2[1]) for p1, p2 in pairs if p1 is not None and p2 is not None]\n",
    "    filter_y = [1 for y1, y2 in filter_none if (y1 <= point[1] and y2 >= point[1]) or (y1 >= point[1] and y2 <= point[1])]\n",
    "    return sum(filter_y) % 2 == 1"
   ]
  },
  {
   "cell_type": "code",
   "execution_count": 3,
   "metadata": {},
   "outputs": [],
   "source": [
    "pg = np.loadtxt('/home/xiaoqi/AY20_MBDS_questions/Question 6/input_question_6_polygon')\n",
    "pg = pg.tolist()\n",
    "ps = np.loadtxt('/home/xiaoqi/AY20_MBDS_questions/Question 6/input_question_6_points').tolist()\n",
    "result = [is_points_within_polygon(p, pg) for p in ps]\n",
    "p_result = {True: 'Inside', False: 'Outside'}\n",
    "with open('/home/xiaoqi/AY20_MBDS_questions/Question 6/output_question_6', 'w') as f:\n",
    "    for p, r in zip(ps, result):\n",
    "        print('{}\\t{}\\t{}'.format(*p, p_result[r]), file=f)"
   ]
  }
 ]
}