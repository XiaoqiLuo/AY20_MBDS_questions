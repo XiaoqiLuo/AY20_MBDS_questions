{
 "metadata": {
  "language_info": {
   "codemirror_mode": {
    "name": "ipython",
    "version": 3
   },
   "file_extension": ".py",
   "mimetype": "text/x-python",
   "name": "python",
   "nbconvert_exporter": "python",
   "pygments_lexer": "ipython3",
   "version": "3.7.9-final"
  },
  "orig_nbformat": 2,
  "kernelspec": {
   "name": "python3",
   "display_name": "Python 3.7.9 64-bit ('AY': conda)",
   "metadata": {
    "interpreter": {
     "hash": "f3903b0f3092940892159e47ebb5cb7efd253e21a20b4be51730ae854e97a131"
    }
   }
  }
 },
 "nbformat": 4,
 "nbformat_minor": 2,
 "cells": [
  {
   "cell_type": "code",
   "execution_count": 1,
   "metadata": {},
   "outputs": [],
   "source": [
    "import cv2\n",
    "import numpy as np\n",
    "import pandas as pd"
   ]
  },
  {
   "cell_type": "code",
   "execution_count": 2,
   "metadata": {},
   "outputs": [],
   "source": [
    "img = np.loadtxt('/home/xiaoqi/AY20_MBDS_questions/Question 4/input_question_4', dtype='uint8')\n",
    "img_t = img.T"
   ]
  },
  {
   "cell_type": "code",
   "execution_count": 3,
   "metadata": {},
   "outputs": [],
   "source": [
    "res, labels = cv2.connectedComponents(img_t, connectivity=4)"
   ]
  },
  {
   "cell_type": "code",
   "execution_count": 4,
   "metadata": {},
   "outputs": [],
   "source": [
    "labels_t = labels.T\n"
   ]
  },
  {
   "cell_type": "code",
   "execution_count": 5,
   "metadata": {},
   "outputs": [],
   "source": [
    "df = pd.DataFrame(labels_t)\n",
    "df.to_csv('/home/xiaoqi/AY20_MBDS_questions/Question 4/output_question_4.txt', sep = '\\t', index = 0, header = 0)"
   ]
  }
 ]
}