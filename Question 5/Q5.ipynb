{
 "metadata": {
  "language_info": {
   "codemirror_mode": {
    "name": "ipython",
    "version": 3
   },
   "file_extension": ".py",
   "mimetype": "text/x-python",
   "name": "python",
   "nbconvert_exporter": "python",
   "pygments_lexer": "ipython3",
   "version": "3.7.9-final"
  },
  "orig_nbformat": 2,
  "kernelspec": {
   "name": "python3",
   "display_name": "Python 3",
   "language": "python"
  }
 },
 "nbformat": 4,
 "nbformat_minor": 2,
 "cells": [
  {
   "cell_type": "code",
   "execution_count": 1,
   "metadata": {},
   "outputs": [],
   "source": [
    "import numpy as np\n",
    "import pandas as pd\n",
    "import operator"
   ]
  },
  {
   "cell_type": "code",
   "execution_count": 2,
   "metadata": {},
   "outputs": [],
   "source": [
    "def get_beads(beads):\n",
    "    while beads:\n",
    "        count = 0\n",
    "        for b in zip(*map(lambda bead: bead[0] * bead[1], beads[:2])): \n",
    "            yield from b\n",
    "            count += 1\n",
    "        beads = [(color, num - count) for color, num in beads[:2] if num - count > 0] + beads[2:] "
   ]
  },
  {
   "cell_type": "code",
   "execution_count": 3,
   "metadata": {},
   "outputs": [],
   "source": [
    "def minimize_repeat(list_beats):\n",
    "    for i in range(0,len(list_beats)):\n",
    "        if list_beats[-i] == list_beats[-(i+1)]:\n",
    "            list_beats[-(i+1)] = list_beats[i]"
   ]
  },
  {
   "cell_type": "code",
   "execution_count": 4,
   "metadata": {},
   "outputs": [],
   "source": [
    "def rotate(L, list_beats):\n",
    "    array = np.zeros((L, L), dtype=np.str)\n",
    "    x, y = 0, 0\n",
    "    res = 1\n",
    "    array[x][y] = list_beats[0]\n",
    "    while (res < L*L):\n",
    "        while (y+1 < L and not array[x][y+1]):\n",
    "            res += 1\n",
    "            y += 1\n",
    "            array[x][y] = list_beats[res-1]\n",
    "        while (x+1 < L and (not array[x+1][y])):\n",
    "            res += 1\n",
    "            x += 1\n",
    "            array[x][y] = list_beats[res-1]\n",
    "        while (y-1 >= 0 and not array[x][y-1]):\n",
    "            res += 1\n",
    "            y -= 1\n",
    "            array[x][y] = list_beats[res-1]\n",
    "        while (x-1 >= 0 and not array[x-1][y]):\n",
    "            res += 1\n",
    "            x -= 1\n",
    "            array[x][y] = list_beats[res-1]\n",
    "    return array"
   ]
  },
  {
   "cell_type": "code",
   "execution_count": 5,
   "metadata": {},
   "outputs": [],
   "source": [
    "def coloring(L, beads):\n",
    "    beads.sort(key=operator.itemgetter(1), reverse=True)\n",
    "    list_beats = list(get_beads(beads))\n",
    "    minimize_repeat(list_beats)\n",
    "    result = rotate(L, list_beats)\n",
    "    return(result)\n"
   ]
  },
  {
   "cell_type": "code",
   "execution_count": 6,
   "metadata": {},
   "outputs": [],
   "source": [
    "beads = [('R', 12), ('B', 13)]\n",
    "a = coloring(5, beads)\n",
    "df = pd.DataFrame(a)\n",
    "df.to_csv('./output_question_5_1.txt', sep = '\\t', index = 0, header = 0)"
   ]
  },
  {
   "cell_type": "code",
   "execution_count": 7,
   "metadata": {},
   "outputs": [],
   "source": [
    "beads = [('R', 139), ('B', 1451), ('G', 977), ('W', 1072), ('Y', 457)]\n",
    "a = coloring(64, beads)\n",
    "df = pd.DataFrame(a) \n",
    "df.to_csv('./output_question_5_2.txt', sep = '\\t', index = 0, header = 0)"
   ]
  }
 ]
}